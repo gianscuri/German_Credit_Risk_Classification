{
 "cells": [
  {
   "cell_type": "markdown",
   "metadata": {},
   "source": [
    "# Esame Data Science - a.a. 2022/2023 - Gianluca Scuri\n",
    "\n",
    "2. [Classificazione](#esercizio2)\n",
    "3. [Rete Neurale Custom](#esercizio3)"
   ]
  },
  {
   "cell_type": "markdown",
   "metadata": {},
   "source": [
    "Partendo dal dataset precedentemente analizzato e ripulito, in questa parte d'esercizio vi viene richiesto di eseguire una clasificazione del dataset.\n",
    "\n",
    "L'ultima colonna (**Attributo 21**) contiene la label che il modello deve imparare ad apprendere.\n",
    "\n",
    "Viene richiesto di utilizzare diversi modelli di clusterizzazione, praparare i dati e le feature per il loro utilizzo e quindi effettuare la previsione. Viene chiesto di valutare la bontà della previsione del modello e di commentare la sua capacità di apprendimento.\n",
    "\n",
    "Avendo utilizzato diversi modelli, viene inoltre richiesto di confrontare i risultati dei diversi modelli utilizzati e di commentare quale sia, a vostro giudizio, il modello preferibile."
   ]
  },
  {
   "cell_type": "code",
   "execution_count": 1,
   "metadata": {},
   "outputs": [],
   "source": [
    "# Utils\n",
    "import seaborn as sns\n",
    "import pandas as pd\n",
    "import numpy as np\n",
    "import matplotlib.pyplot as plt\n",
    "from tqdm import tqdm\n",
    "\n",
    "# Preprocessing\n",
    "from sklearn.preprocessing import StandardScaler\n",
    "from sklearn.model_selection import train_test_split\n",
    "\n",
    "# Classificatori\n",
    "from sklearn.linear_model import LogisticRegression\n",
    "from sklearn.neighbors import KNeighborsClassifier\n",
    "from sklearn.svm import SVC\n",
    "from sklearn.gaussian_process import GaussianProcessClassifier\n",
    "from sklearn.tree import DecisionTreeClassifier\n",
    "from sklearn.ensemble import RandomForestClassifier, AdaBoostClassifier\n",
    "from sklearn.naive_bayes import GaussianNB\n",
    "\n",
    "# Bilanciamento\n",
    "from imblearn.pipeline import Pipeline\n",
    "from imblearn.over_sampling import SMOTE\n",
    "\n",
    "# Sklearn utils\n",
    "from sklearn.model_selection import StratifiedKFold, cross_validate\n",
    "from sklearn.decomposition import PCA\n",
    "from sklearn.model_selection import GridSearchCV\n",
    "from sklearn.metrics import confusion_matrix, recall_score\n",
    "\n",
    "# Neural networks\n",
    "import tensorflow as tf\n",
    "import keras\n",
    "from keras.models import Sequential\n",
    "from keras.layers import Dense, ReLU\n",
    "\n",
    "# Random State\n",
    "RANDOM_STATE = 42"
   ]
  },
  {
   "cell_type": "markdown",
   "metadata": {},
   "source": [
    "### Caricamento dei dati"
   ]
  },
  {
   "cell_type": "markdown",
   "metadata": {},
   "source": [
    "Creati i dizionari che contengono la descrizione degli attributi e dei diversi livelli"
   ]
  },
  {
   "cell_type": "code",
   "execution_count": 2,
   "metadata": {},
   "outputs": [],
   "source": [
    "# Dictionary of the attributes\n",
    "attributes_description = {\n",
    "    1:'Stato del conto corrente esistente',\n",
    "    2:'Durata in mesi',\n",
    "    3:'Storia del credito',\n",
    "    4:'Scopo della richiesta di credito',\n",
    "    5:'Ammontare del credito',\n",
    "    6:'Conto di risparmio/obbligazioni',\n",
    "    7:'Occupazione attuale',\n",
    "    8:'Tasso di rata in percentuale del reddito disponibile',\n",
    "    9:'Stato personale e sesso',\n",
    "    10:'Altri debitori/garanti',\n",
    "    11:'Attuale residenza da allora',\n",
    "    12:'Proprietà',\n",
    "    13:'Età in anni',\n",
    "    14:'Altri piani di rateizzazione',\n",
    "    15:'Abitazione',\n",
    "    16:'Numero di crediti esistenti presso questa banca',\n",
    "    17:'Lavoro',\n",
    "    18:'Numero di persone tenute a provvedere al mantenimento',\n",
    "    19:'Telefono',\n",
    "    20:'lavoratore straniero',\n",
    "    21:'Classificazione del credito'\n",
    "    }"
   ]
  },
  {
   "cell_type": "code",
   "execution_count": 3,
   "metadata": {},
   "outputs": [],
   "source": [
    "# Dictionary of the levels of the attributes\n",
    "levels_description = {\n",
    "    1: {\n",
    "        'A11': '... < 0 DM',\n",
    "        'A12': '0 <= ... < 200 DM',\n",
    "        'A13': '... >= 200 DM / assegnazioni di stipendio per almeno 1 anno',\n",
    "        'A14': 'nessun conto corrente'\n",
    "    },\n",
    "    3: {\n",
    "        'A30': 'nessun credito preso/tutti i crediti rimborsati debitamente',\n",
    "        'A31': 'tutti i crediti presso questa banca rimborsati debitamente',\n",
    "        'A32': 'crediti esistenti regolarmente rimborsati fino ad ora',\n",
    "        'A33': 'ritardo nel pagamento in passato',\n",
    "        'A34': 'conto critico/ altri crediti esistenti (non presso questa banca)'\n",
    "    },\n",
    "    4: {\n",
    "        'A40': 'auto (nuova)',\n",
    "        'A41': 'auto (usata)',\n",
    "        'A42': 'mobili/attrezzature',\n",
    "        'A43': 'radio/televisione',\n",
    "        'A44': 'elettrodomestici',\n",
    "        'A45': 'riparazioni',\n",
    "        'A46': 'educazione',\n",
    "        'A47': '(vacanze - non esiste?)',\n",
    "        'A48': 'riqualificazione',\n",
    "        'A49': 'affari',\n",
    "        'A410': 'altri'\n",
    "    },\n",
    "    6: {\n",
    "        'R61': '... < 100 Marchi',\n",
    "        'A62': '100 <= ... < 500 DM',\n",
    "        'A63': '500 <= ... < 1000 DM',\n",
    "        'A64': '.. >= 1000 DM',\n",
    "        'A65': 'sconosciuto/ nessun conto di risparmio'\n",
    "    },\n",
    "    7: {\n",
    "        'A71': 'disoccupato',\n",
    "        'R72': '... < 1 anno',\n",
    "        'A73': '1 <= ... < 4 anni',\n",
    "        'A74': '4 <= ... < 7 anni',\n",
    "        'A75': '.. >= 7 anni'\n",
    "    },\n",
    "    9: {\n",
    "        'A91': 'maschio : divorziato/separato',\n",
    "        'A92': 'femmina : divorziata/separata/sposata',\n",
    "        'A93': 'maschio : singolo',\n",
    "        'A94': 'maschio : sposato/vedovo',\n",
    "        'A95': 'femmina : single'\n",
    "    },\n",
    "    10: {\n",
    "        'A101': 'nessuno',\n",
    "        'A102': 'co-candidato',\n",
    "        'A103': 'garante'\n",
    "    },\n",
    "    12: {\n",
    "        'A121': 'immobiliare',\n",
    "        'A122': 'se non A121 : contratto di risparmio della società di costruzione/assicurazione sulla vita',\n",
    "        'A123': 'se non A121/A122 : automobile o altro, non nell\\'attributo 6',\n",
    "        'A124': 'sconosciuto / nessuna proprietà'\n",
    "    },\n",
    "    14: {\n",
    "        'A141': 'banca',\n",
    "        'A142': 'negozi',\n",
    "        'A143': 'nessuno'\n",
    "    },\n",
    "    15: {\n",
    "        'A151': 'affitto',\n",
    "        'A152': 'proprio',\n",
    "        'A153': 'gratis'\n",
    "    },\n",
    "    17: {\n",
    "        'A171': 'disoccupato/non qualificato - non residente',\n",
    "        'A172': 'non qualificato - residente',\n",
    "        'A173': 'impiegato/funzionario qualificato',\n",
    "        'A174': 'dirigente/ lavoratore autonomo/ impiegato/funzionario altamente qualificato'\n",
    "    },\n",
    "    19: {\n",
    "        'A191': 'nessuno',\n",
    "        'A192': 'sì, registrato a nome del cliente'\n",
    "    },\n",
    "    20: {\n",
    "        'A201': 'sì',\n",
    "        'A202': 'no'\n",
    "    },\n",
    "    21: {\n",
    "        1: 'buono',\n",
    "        2: 'cattivo'\n",
    "    }\n",
    "}"
   ]
  },
  {
   "cell_type": "code",
   "execution_count": 4,
   "metadata": {},
   "outputs": [
    {
     "data": {
      "text/html": [
       "<div>\n",
       "<style scoped>\n",
       "    .dataframe tbody tr th:only-of-type {\n",
       "        vertical-align: middle;\n",
       "    }\n",
       "\n",
       "    .dataframe tbody tr th {\n",
       "        vertical-align: top;\n",
       "    }\n",
       "\n",
       "    .dataframe thead th {\n",
       "        text-align: right;\n",
       "    }\n",
       "</style>\n",
       "<table border=\"1\" class=\"dataframe\">\n",
       "  <thead>\n",
       "    <tr style=\"text-align: right;\">\n",
       "      <th></th>\n",
       "      <th>1</th>\n",
       "      <th>2</th>\n",
       "      <th>3</th>\n",
       "      <th>4</th>\n",
       "      <th>5</th>\n",
       "      <th>6</th>\n",
       "      <th>7</th>\n",
       "      <th>8</th>\n",
       "      <th>9</th>\n",
       "      <th>10</th>\n",
       "      <th>...</th>\n",
       "      <th>12</th>\n",
       "      <th>13</th>\n",
       "      <th>14</th>\n",
       "      <th>15</th>\n",
       "      <th>16</th>\n",
       "      <th>17</th>\n",
       "      <th>18</th>\n",
       "      <th>19</th>\n",
       "      <th>20</th>\n",
       "      <th>21</th>\n",
       "    </tr>\n",
       "  </thead>\n",
       "  <tbody>\n",
       "    <tr>\n",
       "      <th>0</th>\n",
       "      <td>A11</td>\n",
       "      <td>6</td>\n",
       "      <td>A34</td>\n",
       "      <td>A43</td>\n",
       "      <td>1169</td>\n",
       "      <td>A65</td>\n",
       "      <td>A75</td>\n",
       "      <td>4</td>\n",
       "      <td>A93</td>\n",
       "      <td>A101</td>\n",
       "      <td>...</td>\n",
       "      <td>A121</td>\n",
       "      <td>67</td>\n",
       "      <td>A143</td>\n",
       "      <td>A152</td>\n",
       "      <td>2</td>\n",
       "      <td>A173</td>\n",
       "      <td>1</td>\n",
       "      <td>A192</td>\n",
       "      <td>A201</td>\n",
       "      <td>1</td>\n",
       "    </tr>\n",
       "    <tr>\n",
       "      <th>1</th>\n",
       "      <td>A12</td>\n",
       "      <td>48</td>\n",
       "      <td>A32</td>\n",
       "      <td>A43</td>\n",
       "      <td>5951</td>\n",
       "      <td>A61</td>\n",
       "      <td>A73</td>\n",
       "      <td>2</td>\n",
       "      <td>A92</td>\n",
       "      <td>A101</td>\n",
       "      <td>...</td>\n",
       "      <td>A121</td>\n",
       "      <td>22</td>\n",
       "      <td>A143</td>\n",
       "      <td>A152</td>\n",
       "      <td>1</td>\n",
       "      <td>A173</td>\n",
       "      <td>1</td>\n",
       "      <td>A191</td>\n",
       "      <td>A201</td>\n",
       "      <td>2</td>\n",
       "    </tr>\n",
       "    <tr>\n",
       "      <th>2</th>\n",
       "      <td>A14</td>\n",
       "      <td>12</td>\n",
       "      <td>A34</td>\n",
       "      <td>A46</td>\n",
       "      <td>2096</td>\n",
       "      <td>A61</td>\n",
       "      <td>A74</td>\n",
       "      <td>2</td>\n",
       "      <td>A93</td>\n",
       "      <td>A101</td>\n",
       "      <td>...</td>\n",
       "      <td>A121</td>\n",
       "      <td>49</td>\n",
       "      <td>A143</td>\n",
       "      <td>A152</td>\n",
       "      <td>1</td>\n",
       "      <td>A172</td>\n",
       "      <td>2</td>\n",
       "      <td>A191</td>\n",
       "      <td>A201</td>\n",
       "      <td>1</td>\n",
       "    </tr>\n",
       "    <tr>\n",
       "      <th>3</th>\n",
       "      <td>A11</td>\n",
       "      <td>42</td>\n",
       "      <td>A32</td>\n",
       "      <td>A42</td>\n",
       "      <td>7882</td>\n",
       "      <td>A61</td>\n",
       "      <td>A74</td>\n",
       "      <td>2</td>\n",
       "      <td>A93</td>\n",
       "      <td>A103</td>\n",
       "      <td>...</td>\n",
       "      <td>A122</td>\n",
       "      <td>45</td>\n",
       "      <td>A143</td>\n",
       "      <td>A153</td>\n",
       "      <td>1</td>\n",
       "      <td>A173</td>\n",
       "      <td>2</td>\n",
       "      <td>A191</td>\n",
       "      <td>A201</td>\n",
       "      <td>1</td>\n",
       "    </tr>\n",
       "    <tr>\n",
       "      <th>4</th>\n",
       "      <td>A11</td>\n",
       "      <td>24</td>\n",
       "      <td>A33</td>\n",
       "      <td>A40</td>\n",
       "      <td>4870</td>\n",
       "      <td>A61</td>\n",
       "      <td>A73</td>\n",
       "      <td>3</td>\n",
       "      <td>A93</td>\n",
       "      <td>A101</td>\n",
       "      <td>...</td>\n",
       "      <td>A124</td>\n",
       "      <td>53</td>\n",
       "      <td>A143</td>\n",
       "      <td>A153</td>\n",
       "      <td>2</td>\n",
       "      <td>A173</td>\n",
       "      <td>2</td>\n",
       "      <td>A191</td>\n",
       "      <td>A201</td>\n",
       "      <td>2</td>\n",
       "    </tr>\n",
       "  </tbody>\n",
       "</table>\n",
       "<p>5 rows × 21 columns</p>\n",
       "</div>"
      ],
      "text/plain": [
       "    1   2    3    4     5    6    7   8    9     10  ...    12  13    14  \\\n",
       "0  A11   6  A34  A43  1169  A65  A75   4  A93  A101  ...  A121  67  A143   \n",
       "1  A12  48  A32  A43  5951  A61  A73   2  A92  A101  ...  A121  22  A143   \n",
       "2  A14  12  A34  A46  2096  A61  A74   2  A93  A101  ...  A121  49  A143   \n",
       "3  A11  42  A32  A42  7882  A61  A74   2  A93  A103  ...  A122  45  A143   \n",
       "4  A11  24  A33  A40  4870  A61  A73   3  A93  A101  ...  A124  53  A143   \n",
       "\n",
       "     15 16    17 18    19    20 21  \n",
       "0  A152  2  A173  1  A192  A201  1  \n",
       "1  A152  1  A173  1  A191  A201  2  \n",
       "2  A152  1  A172  2  A191  A201  1  \n",
       "3  A153  1  A173  2  A191  A201  1  \n",
       "4  A153  2  A173  2  A191  A201  2  \n",
       "\n",
       "[5 rows x 21 columns]"
      ]
     },
     "execution_count": 4,
     "metadata": {},
     "output_type": "execute_result"
    }
   ],
   "source": [
    "# Load dataset\n",
    "data = pd.read_csv(\"data/german.data\", sep=\" \", header=None) # Rename columns to match the dataset description\n",
    "\n",
    "data.columns = data.columns + 1\n",
    "\n",
    "data = data.astype({ # Convert columns type\n",
    "    1: 'category',\n",
    "    2: int,\n",
    "    3: 'category',\n",
    "    4: 'category',\n",
    "    5: int,\n",
    "    6: 'category',\n",
    "    7: 'category',\n",
    "    8: int,\n",
    "    9: 'category',\n",
    "    10: 'category',\n",
    "    11: int,\n",
    "    12: 'category',\n",
    "    13: int,\n",
    "    14: 'category',\n",
    "    15: 'category',\n",
    "    16: int,\n",
    "    17: 'category',\n",
    "    18: int,\n",
    "    19: 'category',\n",
    "    20: 'category',\n",
    "    21: 'category'\n",
    "    })\n",
    "\n",
    "data.head()"
   ]
  },
  {
   "cell_type": "markdown",
   "metadata": {},
   "source": [
    "### Ingegneria delle features"
   ]
  },
  {
   "cell_type": "markdown",
   "metadata": {},
   "source": [
    "In questa sezione vengono preparati gli attributi e la varaibile target per la classificazione."
   ]
  },
  {
   "cell_type": "markdown",
   "metadata": {},
   "source": [
    "#### One-hot encoding"
   ]
  },
  {
   "cell_type": "markdown",
   "metadata": {},
   "source": [
    "Il primo passaggio prevede la trasformazione delle variabili categoriche in variabili dummy, per ogni n livelli vengono create n-1 variabili dummy. Per nessun degli attributi categorici possono essere utilizzati attributi ordinali."
   ]
  },
  {
   "cell_type": "code",
   "execution_count": 5,
   "metadata": {},
   "outputs": [],
   "source": [
    "data.columns = data.columns.astype(str)\n",
    "\n",
    "# Creazione dataset per classificazione\n",
    "X = data.drop('21', axis=1)\n",
    "X = pd.get_dummies(X, columns=X.select_dtypes(include='category').columns, drop_first=True)\n",
    "\n",
    "y = data['21']\n",
    "y = y.map({1:0, 2:1}) # 0 = buono, 1 = cattivo"
   ]
  },
  {
   "cell_type": "code",
   "execution_count": 6,
   "metadata": {},
   "outputs": [
    {
     "data": {
      "text/html": [
       "<div>\n",
       "<style scoped>\n",
       "    .dataframe tbody tr th:only-of-type {\n",
       "        vertical-align: middle;\n",
       "    }\n",
       "\n",
       "    .dataframe tbody tr th {\n",
       "        vertical-align: top;\n",
       "    }\n",
       "\n",
       "    .dataframe thead th {\n",
       "        text-align: right;\n",
       "    }\n",
       "</style>\n",
       "<table border=\"1\" class=\"dataframe\">\n",
       "  <thead>\n",
       "    <tr style=\"text-align: right;\">\n",
       "      <th></th>\n",
       "      <th>2</th>\n",
       "      <th>5</th>\n",
       "      <th>8</th>\n",
       "      <th>11</th>\n",
       "      <th>13</th>\n",
       "      <th>16</th>\n",
       "      <th>18</th>\n",
       "      <th>1_A12</th>\n",
       "      <th>1_A13</th>\n",
       "      <th>1_A14</th>\n",
       "      <th>...</th>\n",
       "      <th>12_A124</th>\n",
       "      <th>14_A142</th>\n",
       "      <th>14_A143</th>\n",
       "      <th>15_A152</th>\n",
       "      <th>15_A153</th>\n",
       "      <th>17_A172</th>\n",
       "      <th>17_A173</th>\n",
       "      <th>17_A174</th>\n",
       "      <th>19_A192</th>\n",
       "      <th>20_A202</th>\n",
       "    </tr>\n",
       "  </thead>\n",
       "  <tbody>\n",
       "    <tr>\n",
       "      <th>0</th>\n",
       "      <td>6</td>\n",
       "      <td>1169</td>\n",
       "      <td>4</td>\n",
       "      <td>4</td>\n",
       "      <td>67</td>\n",
       "      <td>2</td>\n",
       "      <td>1</td>\n",
       "      <td>False</td>\n",
       "      <td>False</td>\n",
       "      <td>False</td>\n",
       "      <td>...</td>\n",
       "      <td>False</td>\n",
       "      <td>False</td>\n",
       "      <td>True</td>\n",
       "      <td>True</td>\n",
       "      <td>False</td>\n",
       "      <td>False</td>\n",
       "      <td>True</td>\n",
       "      <td>False</td>\n",
       "      <td>True</td>\n",
       "      <td>False</td>\n",
       "    </tr>\n",
       "    <tr>\n",
       "      <th>1</th>\n",
       "      <td>48</td>\n",
       "      <td>5951</td>\n",
       "      <td>2</td>\n",
       "      <td>2</td>\n",
       "      <td>22</td>\n",
       "      <td>1</td>\n",
       "      <td>1</td>\n",
       "      <td>True</td>\n",
       "      <td>False</td>\n",
       "      <td>False</td>\n",
       "      <td>...</td>\n",
       "      <td>False</td>\n",
       "      <td>False</td>\n",
       "      <td>True</td>\n",
       "      <td>True</td>\n",
       "      <td>False</td>\n",
       "      <td>False</td>\n",
       "      <td>True</td>\n",
       "      <td>False</td>\n",
       "      <td>False</td>\n",
       "      <td>False</td>\n",
       "    </tr>\n",
       "    <tr>\n",
       "      <th>2</th>\n",
       "      <td>12</td>\n",
       "      <td>2096</td>\n",
       "      <td>2</td>\n",
       "      <td>3</td>\n",
       "      <td>49</td>\n",
       "      <td>1</td>\n",
       "      <td>2</td>\n",
       "      <td>False</td>\n",
       "      <td>False</td>\n",
       "      <td>True</td>\n",
       "      <td>...</td>\n",
       "      <td>False</td>\n",
       "      <td>False</td>\n",
       "      <td>True</td>\n",
       "      <td>True</td>\n",
       "      <td>False</td>\n",
       "      <td>True</td>\n",
       "      <td>False</td>\n",
       "      <td>False</td>\n",
       "      <td>False</td>\n",
       "      <td>False</td>\n",
       "    </tr>\n",
       "    <tr>\n",
       "      <th>3</th>\n",
       "      <td>42</td>\n",
       "      <td>7882</td>\n",
       "      <td>2</td>\n",
       "      <td>4</td>\n",
       "      <td>45</td>\n",
       "      <td>1</td>\n",
       "      <td>2</td>\n",
       "      <td>False</td>\n",
       "      <td>False</td>\n",
       "      <td>False</td>\n",
       "      <td>...</td>\n",
       "      <td>False</td>\n",
       "      <td>False</td>\n",
       "      <td>True</td>\n",
       "      <td>False</td>\n",
       "      <td>True</td>\n",
       "      <td>False</td>\n",
       "      <td>True</td>\n",
       "      <td>False</td>\n",
       "      <td>False</td>\n",
       "      <td>False</td>\n",
       "    </tr>\n",
       "    <tr>\n",
       "      <th>4</th>\n",
       "      <td>24</td>\n",
       "      <td>4870</td>\n",
       "      <td>3</td>\n",
       "      <td>4</td>\n",
       "      <td>53</td>\n",
       "      <td>2</td>\n",
       "      <td>2</td>\n",
       "      <td>False</td>\n",
       "      <td>False</td>\n",
       "      <td>False</td>\n",
       "      <td>...</td>\n",
       "      <td>True</td>\n",
       "      <td>False</td>\n",
       "      <td>True</td>\n",
       "      <td>False</td>\n",
       "      <td>True</td>\n",
       "      <td>False</td>\n",
       "      <td>True</td>\n",
       "      <td>False</td>\n",
       "      <td>False</td>\n",
       "      <td>False</td>\n",
       "    </tr>\n",
       "  </tbody>\n",
       "</table>\n",
       "<p>5 rows × 48 columns</p>\n",
       "</div>"
      ],
      "text/plain": [
       "    2     5  8  11  13  16  18  1_A12  1_A13  1_A14  ...  12_A124  14_A142  \\\n",
       "0   6  1169  4   4  67   2   1  False  False  False  ...    False    False   \n",
       "1  48  5951  2   2  22   1   1   True  False  False  ...    False    False   \n",
       "2  12  2096  2   3  49   1   2  False  False   True  ...    False    False   \n",
       "3  42  7882  2   4  45   1   2  False  False  False  ...    False    False   \n",
       "4  24  4870  3   4  53   2   2  False  False  False  ...     True    False   \n",
       "\n",
       "   14_A143  15_A152  15_A153  17_A172  17_A173  17_A174  19_A192  20_A202  \n",
       "0     True     True    False    False     True    False     True    False  \n",
       "1     True     True    False    False     True    False    False    False  \n",
       "2     True     True    False     True    False    False    False    False  \n",
       "3     True    False     True    False     True    False    False    False  \n",
       "4     True    False     True    False     True    False    False    False  \n",
       "\n",
       "[5 rows x 48 columns]"
      ]
     },
     "execution_count": 6,
     "metadata": {},
     "output_type": "execute_result"
    }
   ],
   "source": [
    "X.head()"
   ]
  },
  {
   "cell_type": "code",
   "execution_count": 7,
   "metadata": {},
   "outputs": [
    {
     "data": {
      "text/plain": [
       "0    0\n",
       "1    1\n",
       "2    0\n",
       "3    0\n",
       "4    1\n",
       "Name: 21, dtype: category\n",
       "Categories (2, int64): [0, 1]"
      ]
     },
     "execution_count": 7,
     "metadata": {},
     "output_type": "execute_result"
    }
   ],
   "source": [
    "y.head()"
   ]
  },
  {
   "cell_type": "markdown",
   "metadata": {},
   "source": [
    "#### Split train e test"
   ]
  },
  {
   "cell_type": "markdown",
   "metadata": {},
   "source": [
    "Il secondo passo prevede la divisione del dataset in una partizione per l'addestramento e una per la verifica delle performance. La proporzione dello split é 90% e 10%."
   ]
  },
  {
   "cell_type": "code",
   "execution_count": 8,
   "metadata": {},
   "outputs": [
    {
     "data": {
      "text/plain": [
       "((900, 48), (900,), (100, 48), (100,))"
      ]
     },
     "execution_count": 8,
     "metadata": {},
     "output_type": "execute_result"
    }
   ],
   "source": [
    "# Split 90% training - 10% test\n",
    "X_train, X_test, y_train, y_test = train_test_split(X, y, test_size = 0.1, random_state=RANDOM_STATE, stratify=y)\n",
    "\n",
    "X_train.shape, y_train.shape, X_test.shape, y_test.shape"
   ]
  },
  {
   "cell_type": "markdown",
   "metadata": {},
   "source": [
    "#### Standardizzazione"
   ]
  },
  {
   "cell_type": "markdown",
   "metadata": {},
   "source": [
    "Un passaggio importante é la standardizzazione degli attributi in input per evitare che quelli con valori assoluti maggiori vengano pesati maggiormente.\n",
    "Viene quindi applicato StandardScaler() ai soli dati di training. Ai dati di test viene poi applicata la trasformazione appresa sulla porzione di training."
   ]
  },
  {
   "cell_type": "code",
   "execution_count": 9,
   "metadata": {},
   "outputs": [
    {
     "data": {
      "text/html": [
       "<div>\n",
       "<style scoped>\n",
       "    .dataframe tbody tr th:only-of-type {\n",
       "        vertical-align: middle;\n",
       "    }\n",
       "\n",
       "    .dataframe tbody tr th {\n",
       "        vertical-align: top;\n",
       "    }\n",
       "\n",
       "    .dataframe thead th {\n",
       "        text-align: right;\n",
       "    }\n",
       "</style>\n",
       "<table border=\"1\" class=\"dataframe\">\n",
       "  <thead>\n",
       "    <tr style=\"text-align: right;\">\n",
       "      <th></th>\n",
       "      <th>2</th>\n",
       "      <th>5</th>\n",
       "      <th>8</th>\n",
       "      <th>11</th>\n",
       "      <th>13</th>\n",
       "      <th>16</th>\n",
       "      <th>18</th>\n",
       "      <th>1_A12</th>\n",
       "      <th>1_A13</th>\n",
       "      <th>1_A14</th>\n",
       "      <th>...</th>\n",
       "      <th>12_A124</th>\n",
       "      <th>14_A142</th>\n",
       "      <th>14_A143</th>\n",
       "      <th>15_A152</th>\n",
       "      <th>15_A153</th>\n",
       "      <th>17_A172</th>\n",
       "      <th>17_A173</th>\n",
       "      <th>17_A174</th>\n",
       "      <th>19_A192</th>\n",
       "      <th>20_A202</th>\n",
       "    </tr>\n",
       "  </thead>\n",
       "  <tbody>\n",
       "    <tr>\n",
       "      <th>230</th>\n",
       "      <td>1.294714</td>\n",
       "      <td>0.348735</td>\n",
       "      <td>0.935745</td>\n",
       "      <td>-0.778087</td>\n",
       "      <td>-0.838199</td>\n",
       "      <td>-0.711151</td>\n",
       "      <td>-0.432822</td>\n",
       "      <td>-0.609878</td>\n",
       "      <td>3.919647</td>\n",
       "      <td>-0.797724</td>\n",
       "      <td>...</td>\n",
       "      <td>-0.421913</td>\n",
       "      <td>-0.221249</td>\n",
       "      <td>0.475561</td>\n",
       "      <td>0.635654</td>\n",
       "      <td>-0.341504</td>\n",
       "      <td>-0.498263</td>\n",
       "      <td>0.760886</td>\n",
       "      <td>-0.414578</td>\n",
       "      <td>-0.833616</td>\n",
       "      <td>-0.204124</td>\n",
       "    </tr>\n",
       "    <tr>\n",
       "      <th>507</th>\n",
       "      <td>-0.481957</td>\n",
       "      <td>1.298843</td>\n",
       "      <td>-1.723741</td>\n",
       "      <td>-0.778087</td>\n",
       "      <td>-0.129279</td>\n",
       "      <td>-0.711151</td>\n",
       "      <td>2.310417</td>\n",
       "      <td>1.639672</td>\n",
       "      <td>-0.255125</td>\n",
       "      <td>-0.797724</td>\n",
       "      <td>...</td>\n",
       "      <td>-0.421913</td>\n",
       "      <td>-0.221249</td>\n",
       "      <td>0.475561</td>\n",
       "      <td>0.635654</td>\n",
       "      <td>-0.341504</td>\n",
       "      <td>-0.498263</td>\n",
       "      <td>-1.314257</td>\n",
       "      <td>2.412091</td>\n",
       "      <td>1.199593</td>\n",
       "      <td>-0.204124</td>\n",
       "    </tr>\n",
       "    <tr>\n",
       "      <th>585</th>\n",
       "      <td>-0.228147</td>\n",
       "      <td>-0.432585</td>\n",
       "      <td>-1.723741</td>\n",
       "      <td>1.036105</td>\n",
       "      <td>-1.369889</td>\n",
       "      <td>-0.711151</td>\n",
       "      <td>-0.432822</td>\n",
       "      <td>-0.609878</td>\n",
       "      <td>-0.255125</td>\n",
       "      <td>-0.797724</td>\n",
       "      <td>...</td>\n",
       "      <td>-0.421913</td>\n",
       "      <td>-0.221249</td>\n",
       "      <td>-2.102781</td>\n",
       "      <td>-1.573183</td>\n",
       "      <td>-0.341504</td>\n",
       "      <td>-0.498263</td>\n",
       "      <td>0.760886</td>\n",
       "      <td>-0.414578</td>\n",
       "      <td>-0.833616</td>\n",
       "      <td>-0.204124</td>\n",
       "    </tr>\n",
       "    <tr>\n",
       "      <th>241</th>\n",
       "      <td>-1.243387</td>\n",
       "      <td>-0.592376</td>\n",
       "      <td>0.049250</td>\n",
       "      <td>-0.778087</td>\n",
       "      <td>1.377175</td>\n",
       "      <td>-0.711151</td>\n",
       "      <td>2.310417</td>\n",
       "      <td>-0.609878</td>\n",
       "      <td>-0.255125</td>\n",
       "      <td>1.253566</td>\n",
       "      <td>...</td>\n",
       "      <td>-0.421913</td>\n",
       "      <td>-0.221249</td>\n",
       "      <td>0.475561</td>\n",
       "      <td>0.635654</td>\n",
       "      <td>-0.341504</td>\n",
       "      <td>-0.498263</td>\n",
       "      <td>0.760886</td>\n",
       "      <td>-0.414578</td>\n",
       "      <td>-0.833616</td>\n",
       "      <td>-0.204124</td>\n",
       "    </tr>\n",
       "    <tr>\n",
       "      <th>350</th>\n",
       "      <td>-0.989577</td>\n",
       "      <td>-0.721576</td>\n",
       "      <td>-1.723741</td>\n",
       "      <td>1.036105</td>\n",
       "      <td>-1.104044</td>\n",
       "      <td>-0.711151</td>\n",
       "      <td>-0.432822</td>\n",
       "      <td>-0.609878</td>\n",
       "      <td>-0.255125</td>\n",
       "      <td>1.253566</td>\n",
       "      <td>...</td>\n",
       "      <td>-0.421913</td>\n",
       "      <td>-0.221249</td>\n",
       "      <td>0.475561</td>\n",
       "      <td>-1.573183</td>\n",
       "      <td>-0.341504</td>\n",
       "      <td>-0.498263</td>\n",
       "      <td>0.760886</td>\n",
       "      <td>-0.414578</td>\n",
       "      <td>1.199593</td>\n",
       "      <td>-0.204124</td>\n",
       "    </tr>\n",
       "  </tbody>\n",
       "</table>\n",
       "<p>5 rows × 48 columns</p>\n",
       "</div>"
      ],
      "text/plain": [
       "            2         5         8        11        13        16        18  \\\n",
       "230  1.294714  0.348735  0.935745 -0.778087 -0.838199 -0.711151 -0.432822   \n",
       "507 -0.481957  1.298843 -1.723741 -0.778087 -0.129279 -0.711151  2.310417   \n",
       "585 -0.228147 -0.432585 -1.723741  1.036105 -1.369889 -0.711151 -0.432822   \n",
       "241 -1.243387 -0.592376  0.049250 -0.778087  1.377175 -0.711151  2.310417   \n",
       "350 -0.989577 -0.721576 -1.723741  1.036105 -1.104044 -0.711151 -0.432822   \n",
       "\n",
       "        1_A12     1_A13     1_A14  ...   12_A124   14_A142   14_A143  \\\n",
       "230 -0.609878  3.919647 -0.797724  ... -0.421913 -0.221249  0.475561   \n",
       "507  1.639672 -0.255125 -0.797724  ... -0.421913 -0.221249  0.475561   \n",
       "585 -0.609878 -0.255125 -0.797724  ... -0.421913 -0.221249 -2.102781   \n",
       "241 -0.609878 -0.255125  1.253566  ... -0.421913 -0.221249  0.475561   \n",
       "350 -0.609878 -0.255125  1.253566  ... -0.421913 -0.221249  0.475561   \n",
       "\n",
       "      15_A152   15_A153   17_A172   17_A173   17_A174   19_A192   20_A202  \n",
       "230  0.635654 -0.341504 -0.498263  0.760886 -0.414578 -0.833616 -0.204124  \n",
       "507  0.635654 -0.341504 -0.498263 -1.314257  2.412091  1.199593 -0.204124  \n",
       "585 -1.573183 -0.341504 -0.498263  0.760886 -0.414578 -0.833616 -0.204124  \n",
       "241  0.635654 -0.341504 -0.498263  0.760886 -0.414578 -0.833616 -0.204124  \n",
       "350 -1.573183 -0.341504 -0.498263  0.760886 -0.414578  1.199593 -0.204124  \n",
       "\n",
       "[5 rows x 48 columns]"
      ]
     },
     "execution_count": 9,
     "metadata": {},
     "output_type": "execute_result"
    }
   ],
   "source": [
    "# Standardizzare i dati z = (x - u) / s\n",
    "scaler = StandardScaler()\n",
    "X_train_stand = pd.DataFrame(scaler.fit_transform(X_train),\n",
    "                            index=X_train.index,\n",
    "                            columns=X_train.columns)\n",
    "X_test_stand = pd.DataFrame(scaler.transform(X_test),\n",
    "                            index=X_test.index,\n",
    "                            columns=X_test.columns)\n",
    "X_train_stand.head()"
   ]
  },
  {
   "cell_type": "markdown",
   "metadata": {},
   "source": [
    "#### Bilanciamento classi"
   ]
  },
  {
   "cell_type": "markdown",
   "metadata": {},
   "source": [
    "Come si é visto nella fase di esplorazione sono presenti piú records per quanto riguarda la classificazione del credito buono rispetto a cattivo. Questo é un problema poiché se non corretto in fase di training il modello puó tendere a classificare piú falsi negativi, molto pericolosi in questo ambito specifico."
   ]
  },
  {
   "cell_type": "code",
   "execution_count": 10,
   "metadata": {},
   "outputs": [
    {
     "data": {
      "text/plain": [
       "Text(0, 0.5, '')"
      ]
     },
     "execution_count": 10,
     "metadata": {},
     "output_type": "execute_result"
    },
    {
     "data": {
      "image/png": "[encoded data removed]",
      "text/plain": [
       "<Figure size 640x480 with 1 Axes>"
      ]
     },
     "metadata": {},
     "output_type": "display_data"
    }
   ],
   "source": [
    "# Plot distribuzione variabile target\n",
    "sns.barplot(x=['buono', 'cattivo'], y=y_train.value_counts()).set_title(attributes_description[21])\n",
    "plt.ylabel('')"
   ]
  },
  {
   "cell_type": "code",
   "execution_count": 11,
   "metadata": {},
   "outputs": [
    {
     "name": "stdout",
     "output_type": "stream",
     "text": [
      "buono:\t\t 630 \n",
      "cattivo:\t 270\n"
     ]
    }
   ],
   "source": [
    "# Non bilanciato\n",
    "print('buono:\\t\\t', y_train.value_counts()[0],\n",
    "      '\\ncattivo:\\t', y_train.value_counts()[1])"
   ]
  },
  {
   "cell_type": "markdown",
   "metadata": {},
   "source": [
    "Per il bilanciamento del dataset viene utilizzato il metodo SMOTE, una delle più popolari tecniche di oversampling."
   ]
  },
  {
   "cell_type": "code",
   "execution_count": 12,
   "metadata": {},
   "outputs": [
    {
     "name": "stdout",
     "output_type": "stream",
     "text": [
      "buono:\t\t 630 \n",
      "cattivo:\t 630\n"
     ]
    }
   ],
   "source": [
    "# Bilanciato\n",
    "sm = SMOTE(random_state=RANDOM_STATE)\n",
    "X_train_stand_bal, y_train_bal = sm.fit_resample(X_train_stand, y_train)\n",
    "\n",
    "print('buono:\\t\\t', y_train_bal.value_counts()[0],\n",
    "      '\\ncattivo:\\t', y_train_bal.value_counts()[1])"
   ]
  },
  {
   "cell_type": "markdown",
   "metadata": {},
   "source": [
    "#### Riduzione della dimensionalitá"
   ]
  },
  {
   "cell_type": "markdown",
   "metadata": {},
   "source": [
    "Nel caso di dataset con molti attributi la PCA e altri metodi di riduzione della dimensionalità hanno tre usi principali: <br>\n",
    "1) Ridurre la dimensionalità e quindi la complessità del tuo set di dati; <br>\n",
    "2) Pre-elaborare i dati in preparazione per altri compiti di apprendimento supervisionato, come la regressione e la classificazione; <br>\n",
    "3) Per facilitare la visualizzazione dei dati.\n",
    "\n",
    "Di seguito viene valutato quanto la varianza spiegata viene influenzata dal numero di componenti considerate."
   ]
  },
  {
   "cell_type": "code",
   "execution_count": 13,
   "metadata": {},
   "outputs": [],
   "source": [
    "var_ratio = []\n",
    "\n",
    "nums = list(range(0, 49, 5)) + [48]\n",
    "for num in nums:\n",
    "  pca = PCA(n_components=num)\n",
    "  pca.fit(X_train_stand)\n",
    "  var_ratio.append(np.sum(pca.explained_variance_ratio_))"
   ]
  },
  {
   "cell_type": "code",
   "execution_count": 14,
   "metadata": {},
   "outputs": [
    {
     "data": {
      "text/plain": [
       "Text(0.5, 1.0, 'Variabilità spiegata per numero di componenti')"
      ]
     },
     "execution_count": 14,
     "metadata": {},
     "output_type": "execute_result"
    },
    {
     "data": {
      "image/png": "[encoded data removed]",
      "text/plain": [
       "<Figure size 640x480 with 1 Axes>"
      ]
     },
     "metadata": {},
     "output_type": "display_data"
    }
   ],
   "source": [
    "fig, ax = plt.subplots()\n",
    "plt.grid()\n",
    "\n",
    "ax.plot(nums,var_ratio,marker='o')\n",
    "ax.set_ylim(-0.1, 1.1)\n",
    "ax.set_xlabel('Numero componenti')\n",
    "ax.set_ylabel('Varianza spiegata')\n",
    "ax.set_title('Variabilità spiegata per numero di componenti')"
   ]
  },
  {
   "cell_type": "markdown",
   "metadata": {},
   "source": [
    "La percentuale di variabilita spiegata non necessariamente corrisponde alla capacita di classificazione."
   ]
  },
  {
   "cell_type": "markdown",
   "metadata": {},
   "source": [
    "<a id=\"esercizio2\"></a>\n",
    "## Classificazione"
   ]
  },
  {
   "cell_type": "markdown",
   "metadata": {},
   "source": [
    "In questa sezione vengono testati i principali modelli di machine learning per la classificazione binaria. Per valutare le performance di classificazione si é deciso di eseguire una cross validation dividendo il training set in 5 partizioni per ottenere valori piú affidabili delle metriche.\n",
    "Per avere risultati affidabili le procedure di standardizzazione, bilanciamento e pca vengono applicati di volta in volta alle solo partizioni di trining e non di validation. Questo é reso possibilie attraverso l'utilizzo di pipeline.\n",
    "\n",
    "Vista la natura del problema, in cui la classificazione errata di un cattivo creditore puó portare a perdite economiche anche importanti, la scelta del modello viene fatta in funzione di massimizzare la recall valutando a paritá di risultati la F1."
   ]
  },
  {
   "cell_type": "markdown",
   "metadata": {},
   "source": [
    "#### Confronto modelli"
   ]
  },
  {
   "cell_type": "code",
   "execution_count": 15,
   "metadata": {},
   "outputs": [],
   "source": [
    "folds = StratifiedKFold(n_splits = 5, random_state = RANDOM_STATE, shuffle=True) # 5-fold cross validation\n",
    "\n",
    "scoring = ['accuracy', 'precision', 'recall', 'f1', 'roc_auc'] # metriche da calcolare\n",
    "\n",
    "classifiers = [('log', LogisticRegression(random_state=RANDOM_STATE)),\n",
    "               ('svc', SVC(random_state=RANDOM_STATE)),\n",
    "               ('knn', KNeighborsClassifier()),\n",
    "               ('gpc', GaussianProcessClassifier()),\n",
    "               ('dtc', DecisionTreeClassifier(random_state=RANDOM_STATE)),\n",
    "               ('rfc', RandomForestClassifier(random_state=RANDOM_STATE)),\n",
    "               ('abc', AdaBoostClassifier()),\n",
    "               ('gnb', GaussianNB())]"
   ]
  },
  {
   "cell_type": "code",
   "execution_count": 16,
   "metadata": {},
   "outputs": [],
   "source": [
    "# Funzione per calcolare matrici di confusione\n",
    "def confusion_matrix_scorer(clf, X, y):\n",
    "    y_pred = clf.predict(X)\n",
    "    cm = confusion_matrix(y, y_pred)\n",
    "    return {'tn': cm[0, 0], 'fp': cm[0, 1],\n",
    "            'fn': cm[1, 0], 'tp': cm[1, 1]}"
   ]
  },
  {
   "cell_type": "code",
   "execution_count": 17,
   "metadata": {},
   "outputs": [
    {
     "name": "stderr",
     "output_type": "stream",
     "text": [
      "100%|██████████| 8/8 [00:16<00:00,  2.09s/it]\n"
     ]
    }
   ],
   "source": [
    "scores = {}\n",
    "scores_cm = {}\n",
    "\n",
    "for clf in tqdm(classifiers):\n",
    "\n",
    "    pipeline = Pipeline([('scaler', StandardScaler()), # standardizzazione,\n",
    "                         ('smote', SMOTE(random_state=RANDOM_STATE)), # bilanciamento\n",
    "                        clf]) # classificatore\n",
    "    \n",
    "    tmp = cross_validate(pipeline, X_train, y_train, cv = folds, scoring=scoring) # cross validation\n",
    "    tmp_cm = cross_validate(pipeline, X_train, y_train, cv = folds, scoring=confusion_matrix_scorer) # cross validation\n",
    "    \n",
    "    scores[clf[0]] = {k: np.mean(v) for k, v in tmp.items()} # calcolo media delle metriche\n",
    "    scores_cm[clf[0]] = {k: np.mean(v) for k, v in tmp_cm.items()} # calcolo media delle metriche\n",
    "\n",
    "scores = pd.DataFrame(scores).T # conversione in dataframe\n",
    "scores_cm = pd.DataFrame(scores_cm).T # conversione in dataframe"
   ]
  },
  {
   "cell_type": "code",
   "execution_count": 18,
   "metadata": {},
   "outputs": [
    {
     "data": {
      "text/html": [
       "<div>\n",
       "<style scoped>\n",
       "    .dataframe tbody tr th:only-of-type {\n",
       "        vertical-align: middle;\n",
       "    }\n",
       "\n",
       "    .dataframe tbody tr th {\n",
       "        vertical-align: top;\n",
       "    }\n",
       "\n",
       "    .dataframe thead th {\n",
       "        text-align: right;\n",
       "    }\n",
       "</style>\n",
       "<table border=\"1\" class=\"dataframe\">\n",
       "  <thead>\n",
       "    <tr style=\"text-align: right;\">\n",
       "      <th></th>\n",
       "      <th>fit_time</th>\n",
       "      <th>score_time</th>\n",
       "      <th>test_accuracy</th>\n",
       "      <th>test_precision</th>\n",
       "      <th>test_recall</th>\n",
       "      <th>test_f1</th>\n",
       "      <th>test_roc_auc</th>\n",
       "    </tr>\n",
       "  </thead>\n",
       "  <tbody>\n",
       "    <tr>\n",
       "      <th>gnb</th>\n",
       "      <td>0.089415</td>\n",
       "      <td>0.012443</td>\n",
       "      <td>0.626667</td>\n",
       "      <td>0.448097</td>\n",
       "      <td>0.755556</td>\n",
       "      <td>0.555128</td>\n",
       "      <td>0.720091</td>\n",
       "    </tr>\n",
       "    <tr>\n",
       "      <th>knn</th>\n",
       "      <td>0.086546</td>\n",
       "      <td>0.187410</td>\n",
       "      <td>0.614444</td>\n",
       "      <td>0.420420</td>\n",
       "      <td>0.751852</td>\n",
       "      <td>0.539107</td>\n",
       "      <td>0.704159</td>\n",
       "    </tr>\n",
       "    <tr>\n",
       "      <th>log</th>\n",
       "      <td>0.096826</td>\n",
       "      <td>0.014584</td>\n",
       "      <td>0.712222</td>\n",
       "      <td>0.517071</td>\n",
       "      <td>0.666667</td>\n",
       "      <td>0.581686</td>\n",
       "      <td>0.776543</td>\n",
       "    </tr>\n",
       "    <tr>\n",
       "      <th>gpc</th>\n",
       "      <td>0.367164</td>\n",
       "      <td>0.048863</td>\n",
       "      <td>0.644444</td>\n",
       "      <td>0.432868</td>\n",
       "      <td>0.585185</td>\n",
       "      <td>0.497391</td>\n",
       "      <td>0.659553</td>\n",
       "    </tr>\n",
       "    <tr>\n",
       "      <th>abc</th>\n",
       "      <td>0.204728</td>\n",
       "      <td>0.027593</td>\n",
       "      <td>0.732222</td>\n",
       "      <td>0.555086</td>\n",
       "      <td>0.585185</td>\n",
       "      <td>0.568388</td>\n",
       "      <td>0.773280</td>\n",
       "    </tr>\n",
       "    <tr>\n",
       "      <th>svc</th>\n",
       "      <td>0.125581</td>\n",
       "      <td>0.041373</td>\n",
       "      <td>0.736667</td>\n",
       "      <td>0.567568</td>\n",
       "      <td>0.533333</td>\n",
       "      <td>0.549422</td>\n",
       "      <td>0.772693</td>\n",
       "    </tr>\n",
       "    <tr>\n",
       "      <th>dtc</th>\n",
       "      <td>0.092127</td>\n",
       "      <td>0.015182</td>\n",
       "      <td>0.692222</td>\n",
       "      <td>0.489103</td>\n",
       "      <td>0.477778</td>\n",
       "      <td>0.482480</td>\n",
       "      <td>0.630952</td>\n",
       "    </tr>\n",
       "    <tr>\n",
       "      <th>rfc</th>\n",
       "      <td>0.330641</td>\n",
       "      <td>0.030366</td>\n",
       "      <td>0.726667</td>\n",
       "      <td>0.564544</td>\n",
       "      <td>0.403704</td>\n",
       "      <td>0.469851</td>\n",
       "      <td>0.771781</td>\n",
       "    </tr>\n",
       "  </tbody>\n",
       "</table>\n",
       "</div>"
      ],
      "text/plain": [
       "     fit_time  score_time  test_accuracy  test_precision  test_recall  \\\n",
       "gnb  0.089415    0.012443       0.626667        0.448097     0.755556   \n",
       "knn  0.086546    0.187410       0.614444        0.420420     0.751852   \n",
       "log  0.096826    0.014584       0.712222        0.517071     0.666667   \n",
       "gpc  0.367164    0.048863       0.644444        0.432868     0.585185   \n",
       "abc  0.204728    0.027593       0.732222        0.555086     0.585185   \n",
       "svc  0.125581    0.041373       0.736667        0.567568     0.533333   \n",
       "dtc  0.092127    0.015182       0.692222        0.489103     0.477778   \n",
       "rfc  0.330641    0.030366       0.726667        0.564544     0.403704   \n",
       "\n",
       "      test_f1  test_roc_auc  \n",
       "gnb  0.555128      0.720091  \n",
       "knn  0.539107      0.704159  \n",
       "log  0.581686      0.776543  \n",
       "gpc  0.497391      0.659553  \n",
       "abc  0.568388      0.773280  \n",
       "svc  0.549422      0.772693  \n",
       "dtc  0.482480      0.630952  \n",
       "rfc  0.469851      0.771781  "
      ]
     },
     "execution_count": 18,
     "metadata": {},
     "output_type": "execute_result"
    }
   ],
   "source": [
    "scores.sort_values(by='test_recall', ascending=False) # ordinamento per recall"
   ]
  },
  {
   "cell_type": "code",
   "execution_count": 19,
   "metadata": {},
   "outputs": [
    {
     "data": {
      "text/html": [
       "<div>\n",
       "<style scoped>\n",
       "    .dataframe tbody tr th:only-of-type {\n",
       "        vertical-align: middle;\n",
       "    }\n",
       "\n",
       "    .dataframe tbody tr th {\n",
       "        vertical-align: top;\n",
       "    }\n",
       "\n",
       "    .dataframe thead th {\n",
       "        text-align: right;\n",
       "    }\n",
       "</style>\n",
       "<table border=\"1\" class=\"dataframe\">\n",
       "  <thead>\n",
       "    <tr style=\"text-align: right;\">\n",
       "      <th></th>\n",
       "      <th>fit_time</th>\n",
       "      <th>score_time</th>\n",
       "      <th>test_tn</th>\n",
       "      <th>test_fp</th>\n",
       "      <th>test_fn</th>\n",
       "      <th>test_tp</th>\n",
       "    </tr>\n",
       "  </thead>\n",
       "  <tbody>\n",
       "    <tr>\n",
       "      <th>gnb</th>\n",
       "      <td>0.086468</td>\n",
       "      <td>0.005509</td>\n",
       "      <td>72.0</td>\n",
       "      <td>54.0</td>\n",
       "      <td>13.2</td>\n",
       "      <td>40.8</td>\n",
       "    </tr>\n",
       "    <tr>\n",
       "      <th>knn</th>\n",
       "      <td>0.088614</td>\n",
       "      <td>0.094100</td>\n",
       "      <td>70.0</td>\n",
       "      <td>56.0</td>\n",
       "      <td>13.4</td>\n",
       "      <td>40.6</td>\n",
       "    </tr>\n",
       "    <tr>\n",
       "      <th>log</th>\n",
       "      <td>0.100149</td>\n",
       "      <td>0.005123</td>\n",
       "      <td>92.2</td>\n",
       "      <td>33.8</td>\n",
       "      <td>18.0</td>\n",
       "      <td>36.0</td>\n",
       "    </tr>\n",
       "    <tr>\n",
       "      <th>gpc</th>\n",
       "      <td>0.360178</td>\n",
       "      <td>0.015029</td>\n",
       "      <td>84.4</td>\n",
       "      <td>41.6</td>\n",
       "      <td>22.4</td>\n",
       "      <td>31.6</td>\n",
       "    </tr>\n",
       "    <tr>\n",
       "      <th>abc</th>\n",
       "      <td>0.214560</td>\n",
       "      <td>0.009376</td>\n",
       "      <td>100.2</td>\n",
       "      <td>25.8</td>\n",
       "      <td>22.4</td>\n",
       "      <td>31.6</td>\n",
       "    </tr>\n",
       "    <tr>\n",
       "      <th>svc</th>\n",
       "      <td>0.124710</td>\n",
       "      <td>0.017811</td>\n",
       "      <td>103.8</td>\n",
       "      <td>22.2</td>\n",
       "      <td>25.2</td>\n",
       "      <td>28.8</td>\n",
       "    </tr>\n",
       "    <tr>\n",
       "      <th>dtc</th>\n",
       "      <td>0.095260</td>\n",
       "      <td>0.004711</td>\n",
       "      <td>98.8</td>\n",
       "      <td>27.2</td>\n",
       "      <td>28.2</td>\n",
       "      <td>25.8</td>\n",
       "    </tr>\n",
       "    <tr>\n",
       "      <th>rfc</th>\n",
       "      <td>0.328427</td>\n",
       "      <td>0.013233</td>\n",
       "      <td>109.0</td>\n",
       "      <td>17.0</td>\n",
       "      <td>32.2</td>\n",
       "      <td>21.8</td>\n",
       "    </tr>\n",
       "  </tbody>\n",
       "</table>\n",
       "</div>"
      ],
      "text/plain": [
       "     fit_time  score_time  test_tn  test_fp  test_fn  test_tp\n",
       "gnb  0.086468    0.005509     72.0     54.0     13.2     40.8\n",
       "knn  0.088614    0.094100     70.0     56.0     13.4     40.6\n",
       "log  0.100149    0.005123     92.2     33.8     18.0     36.0\n",
       "gpc  0.360178    0.015029     84.4     41.6     22.4     31.6\n",
       "abc  0.214560    0.009376    100.2     25.8     22.4     31.6\n",
       "svc  0.124710    0.017811    103.8     22.2     25.2     28.8\n",
       "dtc  0.095260    0.004711     98.8     27.2     28.2     25.8\n",
       "rfc  0.328427    0.013233    109.0     17.0     32.2     21.8"
      ]
     },
     "execution_count": 19,
     "metadata": {},
     "output_type": "execute_result"
    }
   ],
   "source": [
    "scores_cm.sort_values(by='test_tp', ascending=False)"
   ]
  },
  {
   "cell_type": "markdown",
   "metadata": {},
   "source": [
    "Il modello Gaussian Naive Bayes é quello che presenta il valore di Recall maggiore e anche a livello di F1 presenta valori maggiori. Viene quindi scelto come modello migliore. Di seguito viene valutato se é possibile incrementare ulteriormente i risultati."
   ]
  },
  {
   "cell_type": "code",
   "execution_count": 20,
   "metadata": {},
   "outputs": [],
   "source": [
    "# select the best model\n",
    "best_clf = classifiers[7]"
   ]
  },
  {
   "cell_type": "markdown",
   "metadata": {},
   "source": [
    "#### Aggiunta PCA"
   ]
  },
  {
   "cell_type": "markdown",
   "metadata": {},
   "source": [
    "In questa sezione viene valutato se l'aggiunta della PCA puó portare qualche beneficio ed eventualmente qual é il numero ideale di componenti da considerare. Per fare questo viene eseguita una grid search su diversi numeri di componenti."
   ]
  },
  {
   "cell_type": "code",
   "execution_count": 21,
   "metadata": {},
   "outputs": [],
   "source": [
    "pipeline = Pipeline([('scaler', StandardScaler()), # standardizzazione\n",
    "                     ('smote', SMOTE()), # bilanciamento\n",
    "                     ('pca', PCA()), # riduzione dimensionalità\n",
    "                     best_clf # classificatore\n",
    "                    ]) \n",
    "\n",
    "param = {'pca__n_components': [5, 10, 20, 30, 40, 48]} # parametri da testare"
   ]
  },
  {
   "cell_type": "code",
   "execution_count": 22,
   "metadata": {},
   "outputs": [],
   "source": [
    "grid_search = GridSearchCV(pipeline, param_grid=param, cv=folds, scoring='recall',\n",
    "                               return_train_score=True, verbose=1)"
   ]
  },
  {
   "cell_type": "code",
   "execution_count": 23,
   "metadata": {},
   "outputs": [
    {
     "name": "stdout",
     "output_type": "stream",
     "text": [
      "Fitting 5 folds for each of 6 candidates, totalling 30 fits\n",
      "{'pca__n_components': 5}\n",
      "0.6814814814814815\n"
     ]
    }
   ],
   "source": [
    "tmp = grid_search.fit(X_train, y_train)\n",
    "\n",
    "print(tmp.best_params_)\n",
    "print(tmp.best_score_)"
   ]
  },
  {
   "cell_type": "markdown",
   "metadata": {},
   "source": [
    "Il valore che viene indicato come megliore é quello di 5 componenti, questo peró presenta dei valori inferiori di Recall. Per questo motivo di seguito escludiamo l'uso della PCA."
   ]
  },
  {
   "cell_type": "markdown",
   "metadata": {},
   "source": [
    "#### Ottimizzazione iperparametri"
   ]
  },
  {
   "cell_type": "markdown",
   "metadata": {},
   "source": [
    "In questa sezione viene eseguita una grid search sui parametri del modello individuato come migliore. In particolare vengono provati diversi valori del parametro `var_smoothing` che é responsabile di allargare la curva gaussiana andando ad includere valori che si trovano lontani dalla media."
   ]
  },
  {
   "cell_type": "code",
   "execution_count": 24,
   "metadata": {},
   "outputs": [],
   "source": [
    "pipeline = Pipeline([('scaler', StandardScaler()), # standardizzazione\n",
    "                     ('smote', SMOTE()), # bilanciamento\n",
    "                     best_clf # classificatore\n",
    "                     ]) \n",
    "\n",
    "param = {'gnb__var_smoothing': [0.0000001, 0.00000001, 0.000000001, 0.0000000001]} # parametri da testare"
   ]
  },
  {
   "cell_type": "code",
   "execution_count": 25,
   "metadata": {},
   "outputs": [],
   "source": [
    "grid_search = GridSearchCV(pipeline, param_grid=param, cv=folds, scoring='recall',\n",
    "                               return_train_score=True, verbose=1)"
   ]
  },
  {
   "cell_type": "code",
   "execution_count": 26,
   "metadata": {},
   "outputs": [
    {
     "name": "stdout",
     "output_type": "stream",
     "text": [
      "Fitting 5 folds for each of 4 candidates, totalling 20 fits\n",
      "{'gnb__var_smoothing': 1e-10}\n",
      "0.762962962962963\n"
     ]
    }
   ],
   "source": [
    "tmp = grid_search.fit(X_train, y_train)\n",
    "\n",
    "print(tmp.best_params_)\n",
    "print(tmp.best_score_)"
   ]
  },
  {
   "cell_type": "markdown",
   "metadata": {},
   "source": [
    "Dalla grid search é emerso che il valore migliore per questo parametro é 1e-09 e permette di aumentare di qualche punto percentuale il valore di recall."
   ]
  },
  {
   "cell_type": "markdown",
   "metadata": {},
   "source": [
    "### Valutazione sul test set"
   ]
  },
  {
   "cell_type": "markdown",
   "metadata": {},
   "source": [
    "In questa sezione il modello individuato come migliore viene applicato alla porzione di dati di test per valutare la capacitá di generalizzazione del modello. Il modello viene quindi riallenato su tutta la partizione di training e non solo su alcune folds."
   ]
  },
  {
   "cell_type": "code",
   "execution_count": 27,
   "metadata": {},
   "outputs": [
    {
     "data": {
      "text/html": [
       "<style>#sk-container-id-1 {color: black;background-color: white;}#sk-container-id-1 pre{padding: 0;}#sk-container-id-1 div.sk-toggleable {background-color: white;}#sk-container-id-1 label.sk-toggleable__label {cursor: pointer;display: block;width: 100%;margin-bottom: 0;padding: 0.3em;box-sizing: border-box;text-align: center;}#sk-container-id-1 label.sk-toggleable__label-arrow:before {content: \"▸\";float: left;margin-right: 0.25em;color: #696969;}#sk-container-id-1 label.sk-toggleable__label-arrow:hover:before {color: black;}#sk-container-id-1 div.sk-estimator:hover label.sk-toggleable__label-arrow:before {color: black;}#sk-container-id-1 div.sk-toggleable__content {max-height: 0;max-width: 0;overflow: hidden;text-align: left;background-color: #f0f8ff;}#sk-container-id-1 div.sk-toggleable__content pre {margin: 0.2em;color: black;border-radius: 0.25em;background-color: #f0f8ff;}#sk-container-id-1 input.sk-toggleable__control:checked~div.sk-toggleable__content {max-height: 200px;max-width: 100%;overflow: auto;}#sk-container-id-1 input.sk-toggleable__control:checked~label.sk-toggleable__label-arrow:before {content: \"▾\";}#sk-container-id-1 div.sk-estimator input.sk-toggleable__control:checked~label.sk-toggleable__label {background-color: #d4ebff;}#sk-container-id-1 div.sk-label input.sk-toggleable__control:checked~label.sk-toggleable__label {background-color: #d4ebff;}#sk-container-id-1 input.sk-hidden--visually {border: 0;clip: rect(1px 1px 1px 1px);clip: rect(1px, 1px, 1px, 1px);height: 1px;margin: -1px;overflow: hidden;padding: 0;position: absolute;width: 1px;}#sk-container-id-1 div.sk-estimator {font-family: monospace;background-color: #f0f8ff;border: 1px dotted black;border-radius: 0.25em;box-sizing: border-box;margin-bottom: 0.5em;}#sk-container-id-1 div.sk-estimator:hover {background-color: #d4ebff;}#sk-container-id-1 div.sk-parallel-item::after {content: \"\";width: 100%;border-bottom: 1px solid gray;flex-grow: 1;}#sk-container-id-1 div.sk-label:hover label.sk-toggleable__label {background-color: #d4ebff;}#sk-container-id-1 div.sk-serial::before {content: \"\";position: absolute;border-left: 1px solid gray;box-sizing: border-box;top: 0;bottom: 0;left: 50%;z-index: 0;}#sk-container-id-1 div.sk-serial {display: flex;flex-direction: column;align-items: center;background-color: white;padding-right: 0.2em;padding-left: 0.2em;position: relative;}#sk-container-id-1 div.sk-item {position: relative;z-index: 1;}#sk-container-id-1 div.sk-parallel {display: flex;align-items: stretch;justify-content: center;background-color: white;position: relative;}#sk-container-id-1 div.sk-item::before, #sk-container-id-1 div.sk-parallel-item::before {content: \"\";position: absolute;border-left: 1px solid gray;box-sizing: border-box;top: 0;bottom: 0;left: 50%;z-index: -1;}#sk-container-id-1 div.sk-parallel-item {display: flex;flex-direction: column;z-index: 1;position: relative;background-color: white;}#sk-container-id-1 div.sk-parallel-item:first-child::after {align-self: flex-end;width: 50%;}#sk-container-id-1 div.sk-parallel-item:last-child::after {align-self: flex-start;width: 50%;}#sk-container-id-1 div.sk-parallel-item:only-child::after {width: 0;}#sk-container-id-1 div.sk-dashed-wrapped {border: 1px dashed gray;margin: 0 0.4em 0.5em 0.4em;box-sizing: border-box;padding-bottom: 0.4em;background-color: white;}#sk-container-id-1 div.sk-label label {font-family: monospace;font-weight: bold;display: inline-block;line-height: 1.2em;}#sk-container-id-1 div.sk-label-container {text-align: center;}#sk-container-id-1 div.sk-container {/* jupyter's `normalize.less` sets `[hidden] { display: none; }` but bootstrap.min.css set `[hidden] { display: none !important; }` so we also need the `!important` here to be able to override the default hidden behavior on the sphinx rendered scikit-learn.org. See: https://github.com/scikit-learn/scikit-learn/issues/21755 */display: inline-block !important;position: relative;}#sk-container-id-1 div.sk-text-repr-fallback {display: none;}</style><div id=\"sk-container-id-1\" class=\"sk-top-container\"><div class=\"sk-text-repr-fallback\"><pre>GaussianNB(var_smoothing=1e-10)</pre><b>In a Jupyter environment, please rerun this cell to show the HTML representation or trust the notebook. <br />On GitHub, the HTML representation is unable to render, please try loading this page with nbviewer.org.</b></div><div class=\"sk-container\" hidden><div class=\"sk-item\"><div class=\"sk-estimator sk-toggleable\"><input class=\"sk-toggleable__control sk-hidden--visually\" id=\"sk-estimator-id-1\" type=\"checkbox\" checked><label for=\"sk-estimator-id-1\" class=\"sk-toggleable__label sk-toggleable__label-arrow\">GaussianNB</label><div class=\"sk-toggleable__content\"><pre>GaussianNB(var_smoothing=1e-10)</pre></div></div></div></div></div>"
      ],
      "text/plain": [
       "GaussianNB(var_smoothing=1e-10)"
      ]
     },
     "execution_count": 27,
     "metadata": {},
     "output_type": "execute_result"
    }
   ],
   "source": [
    "clf = GaussianNB(var_smoothing=tmp.best_params_['gnb__var_smoothing'])\n",
    "clf.fit(X_train_stand_bal, y_train_bal)"
   ]
  },
  {
   "cell_type": "code",
   "execution_count": 28,
   "metadata": {},
   "outputs": [
    {
     "name": "stdout",
     "output_type": "stream",
     "text": [
      "Recall:  0.6333333333333333\n"
     ]
    }
   ],
   "source": [
    "pred = clf.predict(X_test_stand)\n",
    "print('Recall: ', recall_score(y_test, pred))"
   ]
  },
  {
   "cell_type": "markdown",
   "metadata": {},
   "source": [
    "Il valore di racall é inferiore a quello ottenuto come media sulle 5 partizioni di validation. Di seguito viene riportata la matrice di confusione sul test set."
   ]
  },
  {
   "cell_type": "code",
   "execution_count": 29,
   "metadata": {},
   "outputs": [
    {
     "data": {
      "text/plain": [
       "Text(0.5, 1.0, 'Matrice di confusione test set')"
      ]
     },
     "execution_count": 29,
     "metadata": {},
     "output_type": "execute_result"
    },
    {
     "data": {
      "image/png": "[encoded data removed]",
      "text/plain": [
       "<Figure size 640x480 with 1 Axes>"
      ]
     },
     "metadata": {},
     "output_type": "display_data"
    }
   ],
   "source": [
    "cm_test = confusion_matrix(y_test, pred)\n",
    "\n",
    "fig, axs = plt.subplots(1,1)\n",
    "sns.heatmap(cm_test, square=True, annot=True, fmt='d', cbar=False, cmap='Blues', ax=axs)\n",
    "axs.set_xlabel('Predicted')\n",
    "axs.set_ylabel('True')\n",
    "axs.set_title('Matrice di confusione test set')"
   ]
  },
  {
   "cell_type": "markdown",
   "metadata": {},
   "source": [
    "<a id=\"esercizio3\"></a>\n",
    "## Rete Neurale Custom"
   ]
  },
  {
   "cell_type": "markdown",
   "metadata": {},
   "source": [
    "In questa sezione vengono invece valutate le abilitá predittive di un modello basato su rete neurale. "
   ]
  },
  {
   "cell_type": "code",
   "execution_count": 30,
   "metadata": {},
   "outputs": [
    {
     "data": {
      "text/plain": [
       "((1134, 48), (1134,), (126, 48), (126,))"
      ]
     },
     "execution_count": 30,
     "metadata": {},
     "output_type": "execute_result"
    }
   ],
   "source": [
    "# Split 90% training - 10% validation\n",
    "X_tr, X_val, y_tr, y_val = train_test_split(X_train_stand_bal, y_train_bal, test_size = 0.1, random_state=RANDOM_STATE, stratify=y_train_bal)\n",
    "\n",
    "X_tr.shape, y_tr.shape, X_val.shape, y_val.shape"
   ]
  },
  {
   "cell_type": "markdown",
   "metadata": {},
   "source": [
    "#### Modello minimale"
   ]
  },
  {
   "cell_type": "code",
   "execution_count": 31,
   "metadata": {},
   "outputs": [],
   "source": [
    "# Definizione del modello\n",
    "model1 = Sequential()\n",
    "\n",
    "model1.add(Dense(units=24, input_dim=X_train_stand_bal.shape[1]))\n",
    "model1.add(ReLU())\n",
    "model1.add(Dense(units=1, activation='sigmoid'))"
   ]
  },
  {
   "cell_type": "code",
   "execution_count": 32,
   "metadata": {},
   "outputs": [
    {
     "name": "stdout",
     "output_type": "stream",
     "text": [
      "Epoch 1/100\n",
      "36/36 [==============================] - 1s 15ms/step - loss: 0.7620 - accuracy: 0.5344 - precision: 0.5556 - recall: 0.3439 - AUC: 0.5711 - val_loss: 0.7216 - val_accuracy: 0.6190 - val_precision: 0.6744 - val_recall: 0.4603 - val_AUC: 0.6179\n",
      "Epoch 2/100\n",
      "36/36 [==============================] - 0s 2ms/step - loss: 0.6418 - accuracy: 0.6508 - precision: 0.6792 - recall: 0.5714 - AUC: 0.6986 - val_loss: 0.6389 - val_accuracy: 0.6667 - val_precision: 0.6909 - val_recall: 0.6032 - val_AUC: 0.7163\n",
      "Epoch 3/100\n",
      "36/36 [==============================] - 0s 2ms/step - loss: 0.5792 - accuracy: 0.7090 - precision: 0.7158 - recall: 0.6931 - AUC: 0.7674 - val_loss: 0.5980 - val_accuracy: 0.7619 - val_precision: 0.7463 - val_recall: 0.7937 - val_AUC: 0.7507\n",
      "Epoch 4/100\n",
      "36/36 [==============================] - 0s 3ms/step - loss: 0.5404 - accuracy: 0.7346 - precision: 0.7358 - recall: 0.7319 - AUC: 0.8077 - val_loss: 0.5849 - val_accuracy: 0.7619 - val_precision: 0.7538 - val_recall: 0.7778 - val_AUC: 0.7618\n",
      "Epoch 5/100\n",
      "36/36 [==============================] - 0s 2ms/step - loss: 0.5106 - accuracy: 0.7593 - precision: 0.7597 - recall: 0.7584 - AUC: 0.8334 - val_loss: 0.5693 - val_accuracy: 0.7460 - val_precision: 0.7313 - val_recall: 0.7778 - val_AUC: 0.7763\n",
      "Epoch 6/100\n",
      "36/36 [==============================] - 0s 3ms/step - loss: 0.4883 - accuracy: 0.7769 - precision: 0.7754 - recall: 0.7795 - AUC: 0.8503 - val_loss: 0.5618 - val_accuracy: 0.7698 - val_precision: 0.7500 - val_recall: 0.8095 - val_AUC: 0.7813\n",
      "Epoch 7/100\n",
      "36/36 [==============================] - 0s 3ms/step - loss: 0.4697 - accuracy: 0.7892 - precision: 0.7887 - recall: 0.7901 - AUC: 0.8645 - val_loss: 0.5544 - val_accuracy: 0.7698 - val_precision: 0.7500 - val_recall: 0.8095 - val_AUC: 0.7867\n",
      "Epoch 8/100\n",
      "36/36 [==============================] - 0s 3ms/step - loss: 0.4524 - accuracy: 0.7937 - precision: 0.7866 - recall: 0.8060 - AUC: 0.8752 - val_loss: 0.5548 - val_accuracy: 0.7619 - val_precision: 0.7391 - val_recall: 0.8095 - val_AUC: 0.7902\n",
      "Epoch 9/100\n",
      "36/36 [==============================] - 0s 3ms/step - loss: 0.4375 - accuracy: 0.8016 - precision: 0.7948 - recall: 0.8131 - AUC: 0.8846 - val_loss: 0.5522 - val_accuracy: 0.7460 - val_precision: 0.7313 - val_recall: 0.7778 - val_AUC: 0.7934\n",
      "Epoch 10/100\n",
      "36/36 [==============================] - 0s 3ms/step - loss: 0.4241 - accuracy: 0.8104 - precision: 0.8014 - recall: 0.8254 - AUC: 0.8922 - val_loss: 0.5531 - val_accuracy: 0.7381 - val_precision: 0.7206 - val_recall: 0.7778 - val_AUC: 0.7938\n",
      "Epoch 11/100\n",
      "36/36 [==============================] - 0s 3ms/step - loss: 0.4124 - accuracy: 0.8166 - precision: 0.7997 - recall: 0.8448 - AUC: 0.8989 - val_loss: 0.5525 - val_accuracy: 0.7460 - val_precision: 0.7246 - val_recall: 0.7937 - val_AUC: 0.7930\n",
      "Epoch 12/100\n",
      "36/36 [==============================] - 0s 3ms/step - loss: 0.4013 - accuracy: 0.8254 - precision: 0.8122 - recall: 0.8466 - AUC: 0.9055 - val_loss: 0.5554 - val_accuracy: 0.7460 - val_precision: 0.7246 - val_recall: 0.7937 - val_AUC: 0.7919\n",
      "Epoch 13/100\n",
      "36/36 [==============================] - 0s 2ms/step - loss: 0.3919 - accuracy: 0.8342 - precision: 0.8239 - recall: 0.8501 - AUC: 0.9103 - val_loss: 0.5564 - val_accuracy: 0.7143 - val_precision: 0.7077 - val_recall: 0.7302 - val_AUC: 0.7926\n",
      "Epoch 14/100\n",
      "36/36 [==============================] - 0s 2ms/step - loss: 0.3820 - accuracy: 0.8422 - precision: 0.8299 - recall: 0.8607 - AUC: 0.9151 - val_loss: 0.5574 - val_accuracy: 0.7063 - val_precision: 0.6970 - val_recall: 0.7302 - val_AUC: 0.7933\n"
     ]
    }
   ],
   "source": [
    "# Definizione metriche\n",
    "METRICS = [\n",
    "    tf.keras.metrics.BinaryAccuracy(name='accuracy'),\n",
    "    tf.keras.metrics.Precision(name='precision'),\n",
    "    tf.keras.metrics.Recall(name='recall'),\n",
    "    tf.keras.metrics.AUC(name='AUC')\n",
    "]\n",
    "callback = tf.keras.callbacks.EarlyStopping(monitor='val_loss', patience=5)\n",
    "\n",
    "# Compilazione e fit del modello\n",
    "opt = keras.optimizers.Adam(learning_rate=0.001)\n",
    "model1.compile(loss='binary_crossentropy', optimizer=opt, metrics=METRICS)\n",
    "\n",
    "history = model1.fit(X_tr, y_tr, epochs=100, validation_data=(X_val, y_val), callbacks=[callback])"
   ]
  },
  {
   "cell_type": "code",
   "execution_count": 33,
   "metadata": {},
   "outputs": [
    {
     "data": {
      "image/png": "[encoded data removed]",
      "text/plain": [
       "<Figure size 640x480 with 4 Axes>"
      ]
     },
     "metadata": {},
     "output_type": "display_data"
    }
   ],
   "source": [
    "fig, axs = plt.subplots(2, 2)\n",
    "axs[0, 0].plot(history.history['loss'])\n",
    "axs[0, 0].plot(history.history['val_loss'])\n",
    "axs[0, 0].set_title('Loss')\n",
    "axs[0, 0].legend(['Train','Test'])\n",
    "###############################################\n",
    "axs[0, 1].plot(history.history['accuracy'])\n",
    "axs[0, 1].plot(history.history['val_accuracy'])\n",
    "axs[0, 1].set_title('Accuracy')\n",
    "axs[0, 1].legend(['Train','Test'])\n",
    "###############################################\n",
    "axs[1, 0].plot(history.history['precision'])\n",
    "axs[1, 0].plot(history.history['val_precision'])\n",
    "axs[1, 0].set_title('Precision')\n",
    "axs[1, 0].legend(['Train','Test'])\n",
    "###############################################\n",
    "axs[1, 1].plot(history.history['recall'])\n",
    "axs[1, 1].plot(history.history['val_recall'])\n",
    "axs[1, 1].set_title('Recall')\n",
    "axs[1, 1].legend(['Train','Test'])\n",
    "\n",
    "for ax in axs.flat:\n",
    "    ax.set(xlabel='Epochs', ylabel='Value')\n",
    "\n",
    "# Hide x labels and tick labels for top plots and y ticks for right plots\n",
    "for ax in axs.flat:\n",
    "    ax.label_outer()"
   ]
  },
  {
   "cell_type": "code",
   "execution_count": 34,
   "metadata": {},
   "outputs": [
    {
     "data": {
      "text/plain": [
       "0.7301587462425232"
      ]
     },
     "execution_count": 34,
     "metadata": {},
     "output_type": "execute_result"
    }
   ],
   "source": [
    "history.history['val_recall'][-1]"
   ]
  },
  {
   "cell_type": "markdown",
   "metadata": {},
   "source": [
    "#### Modello piú complesso"
   ]
  },
  {
   "cell_type": "code",
   "execution_count": 35,
   "metadata": {},
   "outputs": [],
   "source": [
    "# Definizione del modello\n",
    "model2 = Sequential()\n",
    "\n",
    "model2.add(Dense(units=24, input_dim=X_train_stand_bal.shape[1]))\n",
    "model2.add(ReLU())\n",
    "model2.add(Dense(units=12, input_dim=X_train_stand_bal.shape[1]))\n",
    "model2.add(ReLU())\n",
    "model2.add(Dense(units=1, activation='sigmoid'))"
   ]
  },
  {
   "cell_type": "code",
   "execution_count": 36,
   "metadata": {},
   "outputs": [
    {
     "name": "stdout",
     "output_type": "stream",
     "text": [
      "Epoch 1/100\n",
      "36/36 [==============================] - 1s 14ms/step - loss: 0.7093 - accuracy: 0.5388 - precision: 0.5327 - recall: 0.6314 - AUC: 0.5248 - val_loss: 0.6896 - val_accuracy: 0.5794 - val_precision: 0.5806 - val_recall: 0.5714 - val_AUC: 0.5583\n",
      "Epoch 2/100\n",
      "36/36 [==============================] - 0s 3ms/step - loss: 0.6614 - accuracy: 0.6146 - precision: 0.6260 - recall: 0.5697 - AUC: 0.6596 - val_loss: 0.6647 - val_accuracy: 0.5952 - val_precision: 0.6071 - val_recall: 0.5397 - val_AUC: 0.6359\n",
      "Epoch 3/100\n",
      "36/36 [==============================] - 0s 3ms/step - loss: 0.6227 - accuracy: 0.6843 - precision: 0.7013 - recall: 0.6420 - AUC: 0.7444 - val_loss: 0.6342 - val_accuracy: 0.6429 - val_precision: 0.6500 - val_recall: 0.6190 - val_AUC: 0.6930\n",
      "Epoch 4/100\n",
      "36/36 [==============================] - 0s 3ms/step - loss: 0.5783 - accuracy: 0.7302 - precision: 0.7368 - recall: 0.7160 - AUC: 0.7997 - val_loss: 0.6042 - val_accuracy: 0.6587 - val_precision: 0.6562 - val_recall: 0.6667 - val_AUC: 0.7303\n",
      "Epoch 5/100\n",
      "36/36 [==============================] - 0s 2ms/step - loss: 0.5347 - accuracy: 0.7690 - precision: 0.7572 - recall: 0.7919 - AUC: 0.8319 - val_loss: 0.5806 - val_accuracy: 0.7143 - val_precision: 0.7077 - val_recall: 0.7302 - val_AUC: 0.7537\n",
      "Epoch 6/100\n",
      "36/36 [==============================] - 0s 2ms/step - loss: 0.4979 - accuracy: 0.7795 - precision: 0.7552 - recall: 0.8272 - AUC: 0.8511 - val_loss: 0.5648 - val_accuracy: 0.7302 - val_precision: 0.7101 - val_recall: 0.7778 - val_AUC: 0.7696\n",
      "Epoch 7/100\n",
      "36/36 [==============================] - 0s 3ms/step - loss: 0.4667 - accuracy: 0.8042 - precision: 0.7778 - recall: 0.8519 - AUC: 0.8693 - val_loss: 0.5567 - val_accuracy: 0.7460 - val_precision: 0.7183 - val_recall: 0.8095 - val_AUC: 0.7739\n",
      "Epoch 8/100\n",
      "36/36 [==============================] - 0s 3ms/step - loss: 0.4401 - accuracy: 0.8078 - precision: 0.7783 - recall: 0.8607 - AUC: 0.8848 - val_loss: 0.5528 - val_accuracy: 0.7460 - val_precision: 0.7246 - val_recall: 0.7937 - val_AUC: 0.7804\n",
      "Epoch 9/100\n",
      "36/36 [==============================] - 0s 3ms/step - loss: 0.4199 - accuracy: 0.8263 - precision: 0.7994 - recall: 0.8713 - AUC: 0.8969 - val_loss: 0.5526 - val_accuracy: 0.7460 - val_precision: 0.7246 - val_recall: 0.7937 - val_AUC: 0.7814\n",
      "Epoch 10/100\n",
      "36/36 [==============================] - 0s 3ms/step - loss: 0.4020 - accuracy: 0.8280 - precision: 0.8010 - recall: 0.8730 - AUC: 0.9057 - val_loss: 0.5519 - val_accuracy: 0.7460 - val_precision: 0.7246 - val_recall: 0.7937 - val_AUC: 0.7900\n",
      "Epoch 11/100\n",
      "36/36 [==============================] - 0s 2ms/step - loss: 0.3863 - accuracy: 0.8413 - precision: 0.8157 - recall: 0.8818 - AUC: 0.9136 - val_loss: 0.5579 - val_accuracy: 0.7381 - val_precision: 0.7143 - val_recall: 0.7937 - val_AUC: 0.7909\n",
      "Epoch 12/100\n",
      "36/36 [==============================] - 0s 3ms/step - loss: 0.3715 - accuracy: 0.8439 - precision: 0.8166 - recall: 0.8871 - AUC: 0.9217 - val_loss: 0.5539 - val_accuracy: 0.7302 - val_precision: 0.7042 - val_recall: 0.7937 - val_AUC: 0.7943\n",
      "Epoch 13/100\n",
      "36/36 [==============================] - 0s 3ms/step - loss: 0.3572 - accuracy: 0.8527 - precision: 0.8311 - recall: 0.8854 - AUC: 0.9269 - val_loss: 0.5547 - val_accuracy: 0.7381 - val_precision: 0.7143 - val_recall: 0.7937 - val_AUC: 0.7954\n",
      "Epoch 14/100\n",
      "36/36 [==============================] - 0s 3ms/step - loss: 0.3445 - accuracy: 0.8607 - precision: 0.8262 - recall: 0.9136 - AUC: 0.9329 - val_loss: 0.5616 - val_accuracy: 0.7460 - val_precision: 0.7313 - val_recall: 0.7778 - val_AUC: 0.7959\n",
      "Epoch 15/100\n",
      "36/36 [==============================] - 0s 3ms/step - loss: 0.3331 - accuracy: 0.8668 - precision: 0.8502 - recall: 0.8907 - AUC: 0.9371 - val_loss: 0.5666 - val_accuracy: 0.7540 - val_precision: 0.7353 - val_recall: 0.7937 - val_AUC: 0.7988\n"
     ]
    }
   ],
   "source": [
    "# Definizione metriche\n",
    "METRICS = [\n",
    "    tf.keras.metrics.BinaryAccuracy(name='accuracy'),\n",
    "    tf.keras.metrics.Precision(name='precision'),\n",
    "    tf.keras.metrics.Recall(name='recall'),\n",
    "    tf.keras.metrics.AUC(name='AUC')\n",
    "]\n",
    "callback = tf.keras.callbacks.EarlyStopping(monitor='val_loss', patience=5)\n",
    "\n",
    "# Compilazione e fit del modello\n",
    "opt = keras.optimizers.Adam(learning_rate=0.001)\n",
    "model2.compile(loss='binary_crossentropy', optimizer=opt, metrics=METRICS)\n",
    "\n",
    "history = model2.fit(X_tr, y_tr, epochs=100, validation_data=(X_val, y_val), callbacks=[callback])"
   ]
  },
  {
   "cell_type": "code",
   "execution_count": 37,
   "metadata": {},
   "outputs": [
    {
     "data": {
      "image/png": "[encoded data removed]",
      "text/plain": [
       "<Figure size 640x480 with 4 Axes>"
      ]
     },
     "metadata": {},
     "output_type": "display_data"
    }
   ],
   "source": [
    "fig, axs = plt.subplots(2, 2)\n",
    "axs[0, 0].plot(history.history['loss'])\n",
    "axs[0, 0].plot(history.history['val_loss'])\n",
    "axs[0, 0].set_title('Loss')\n",
    "axs[0, 0].legend(['Train','Test'])\n",
    "###############################################\n",
    "axs[0, 1].plot(history.history['accuracy'])\n",
    "axs[0, 1].plot(history.history['val_accuracy'])\n",
    "axs[0, 1].set_title('Accuracy')\n",
    "axs[0, 1].legend(['Train','Test'])\n",
    "###############################################\n",
    "axs[1, 0].plot(history.history['precision'])\n",
    "axs[1, 0].plot(history.history['val_precision'])\n",
    "axs[1, 0].set_title('Precision')\n",
    "axs[1, 0].legend(['Train','Test'])\n",
    "###############################################\n",
    "axs[1, 1].plot(history.history['recall'])\n",
    "axs[1, 1].plot(history.history['val_recall'])\n",
    "axs[1, 1].set_title('Recall')\n",
    "axs[1, 1].legend(['Train','Test'])\n",
    "\n",
    "for ax in axs.flat:\n",
    "    ax.set(xlabel='Epochs', ylabel='Value')\n",
    "\n",
    "# Hide x labels and tick labels for top plots and y ticks for right plots\n",
    "for ax in axs.flat:\n",
    "    ax.label_outer()"
   ]
  },
  {
   "cell_type": "code",
   "execution_count": 38,
   "metadata": {},
   "outputs": [
    {
     "data": {
      "text/plain": [
       "0.7936508059501648"
      ]
     },
     "execution_count": 38,
     "metadata": {},
     "output_type": "execute_result"
    }
   ],
   "source": [
    "history.history['val_recall'][-1]"
   ]
  },
  {
   "cell_type": "markdown",
   "metadata": {},
   "source": [
    "### Valutazione sul test set"
   ]
  },
  {
   "cell_type": "markdown",
   "metadata": {},
   "source": [
    "#### Modello minimale"
   ]
  },
  {
   "cell_type": "code",
   "execution_count": 39,
   "metadata": {},
   "outputs": [
    {
     "name": "stdout",
     "output_type": "stream",
     "text": [
      "4/4 [==============================] - 0s 2ms/step\n",
      "Recall:  0.7\n"
     ]
    }
   ],
   "source": [
    "pred = model1.predict(X_test_stand)\n",
    "pred = np.where(pred>0.5, 1, 0).flatten()\n",
    "print('Recall: ', recall_score(y_test, pred))"
   ]
  },
  {
   "cell_type": "markdown",
   "metadata": {},
   "source": [
    "Questo modello seppur molto semplice presenta una recall sul test set maggiore dei modelli tradizionali di machine learning."
   ]
  },
  {
   "cell_type": "code",
   "execution_count": 40,
   "metadata": {},
   "outputs": [
    {
     "data": {
      "text/plain": [
       "Text(0.5, 1.0, 'Matrice di confusione test set')"
      ]
     },
     "execution_count": 40,
     "metadata": {},
     "output_type": "execute_result"
    },
    {
     "data": {
      "image/png": "[encoded data removed]",
      "text/plain": [
       "<Figure size 640x480 with 1 Axes>"
      ]
     },
     "metadata": {},
     "output_type": "display_data"
    }
   ],
   "source": [
    "cm_test = confusion_matrix(y_test, pred)\n",
    "\n",
    "fig, axs = plt.subplots(1,1)\n",
    "sns.heatmap(cm_test, square=True, annot=True, fmt='d', cbar=False, cmap='Blues', ax=axs)\n",
    "axs.set_xlabel('Predicted')\n",
    "axs.set_ylabel('True')\n",
    "axs.set_title('Matrice di confusione test set')"
   ]
  },
  {
   "cell_type": "markdown",
   "metadata": {},
   "source": [
    "#### Modello piú complesso"
   ]
  },
  {
   "cell_type": "code",
   "execution_count": 41,
   "metadata": {},
   "outputs": [
    {
     "name": "stdout",
     "output_type": "stream",
     "text": [
      "4/4 [==============================] - 0s 0s/step\n",
      "Recall:  0.6666666666666666\n"
     ]
    }
   ],
   "source": [
    "pred = model2.predict(X_test_stand)\n",
    "pred = np.where(pred>0.5, 1, 0).flatten()\n",
    "print('Recall: ', recall_score(y_test, pred))"
   ]
  },
  {
   "cell_type": "code",
   "execution_count": 42,
   "metadata": {},
   "outputs": [
    {
     "data": {
      "text/plain": [
       "Text(0.5, 1.0, 'Matrice di confusione test set')"
      ]
     },
     "execution_count": 42,
     "metadata": {},
     "output_type": "execute_result"
    },
    {
     "data": {
      "image/png": "[encoded data removed]",
      "text/plain": [
       "<Figure size 640x480 with 1 Axes>"
      ]
     },
     "metadata": {},
     "output_type": "display_data"
    }
   ],
   "source": [
    "cm_test = confusion_matrix(y_test, pred)\n",
    "\n",
    "fig, axs = plt.subplots(1,1)\n",
    "sns.heatmap(cm_test, square=True, annot=True, fmt='d', cbar=False, cmap='Blues', ax=axs)\n",
    "axs.set_xlabel('Predicted')\n",
    "axs.set_ylabel('True')\n",
    "axs.set_title('Matrice di confusione test set')"
   ]
  },
  {
   "cell_type": "markdown",
   "metadata": {},
   "source": [
    "In conclusione in modello che ha mostrato la migliore capacitá predittiva e di generalizzazione é la rete neurale molto semplice composta da un solo layer hidden. Questa permette di individuare il 70% dei cattivi creditori con una precisione del 62% a differenza del miglior modello di machine learning tradizionale che permette di individure il 63% dei cattivi creditori con una precisione del 42%."
   ]
  }
 ],
 "metadata": {
  "kernelspec": {
   "display_name": "Thesis",
   "language": "python",
   "name": "python3"
  },
  "language_info": {
   "codemirror_mode": {
    "name": "ipython",
    "version": 3
   },
   "file_extension": ".py",
   "mimetype": "text/x-python",
   "name": "python",
   "nbconvert_exporter": "python",
   "pygments_lexer": "ipython3",
   "version": "3.10.12"
  },
  "orig_nbformat": 4
 },
 "nbformat": 4,
 "nbformat_minor": 2
}
